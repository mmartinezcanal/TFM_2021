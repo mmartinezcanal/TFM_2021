{
 "cells": [
  {
   "cell_type": "markdown",
   "metadata": {},
   "source": [
    "<div style=\"width: 100%; clear: both;\">\n",
    "<div style=\"float: left; width: 50%;\">\n",
    "<img src=\"http://www.uoc.edu/portal/_resources/common/imatges/marca_UOC/UOC_Masterbrand.jpg\", align=\"left\">\n",
    "</div>\n",
    "</div>\n",
    "<div style=\"float: right; width: 50%;\">\n",
    "<p style=\"margin: 0; padding-top: 22px; text-align:right;\">M2.978 Treball Final de Màster</p>\n",
    "<p style=\"margin: 0; text-align:right;\">Màster universitari en Ciències de dades (Data science)</p>\n",
    "<p style=\"margin: 0; text-align:right; padding-button: 100px;\">Estudis d'Informàtica, Multimèdia i Telecomunicacions</p>\n",
    "</div>\n",
    "</div>\n",
    "<div style=\"width: 100%; clear: both;\">\n",
    "<div style=\"width:100%;\">&nbsp;</div>\n",
    "\n",
    "\n",
    "# PAC 4 - Extracció de dades\n",
    "## #FreeBritney, cas Britney Spears a Twitter"
   ]
  },
  {
   "cell_type": "code",
   "execution_count": null,
   "metadata": {},
   "outputs": [],
   "source": [
    "# Llibreries\n",
    "import pandas as pd\n",
    "import json\n",
    "import tweepy\n",
    "from tweepy import API\n",
    "from tweepy import OAuthHandler"
   ]
  },
  {
   "cell_type": "code",
   "execution_count": null,
   "metadata": {},
   "outputs": [],
   "source": [
    "# Dades del compte personal de Twitter de l'estudque ens perten accedir a l'API\n",
    "# Per seguretat, no es donen les reals\n",
    "CONSUMER_KEY = \"XpFL8zvxSKR36kU4Qne1FR8QM\"\n",
    "CONSUMER_SECRET = \"yQ6nuA3ykTDZDfxj2a4O43IuCBgXa6UaCkk0Q5Fn10wCCo6Bcw\"\n",
    "ACCESS_KEY = \"33YY521254-yngUZ1YgKOZoqSmtzJmPe1G9S2zWdR24gXHjFyO\"\n",
    "ACCESS_SECRET =\"YjPjcC4seiVf22r5ENavS3ejKceH0May3UOJCftIwzKAp\"\n",
    "\n",
    "# Auntenticació de l'usuari\n",
    "auth = tweepy.OAuthHandler(CONSUMER_KEY, CONSUMER_SECRET)\n",
    "auth.set_access_token(ACCESS_KEY, ACCESS_SECRET)\n",
    "\n",
    "# Accès a l'API de Twitter \n",
    "api = tweepy.API(auth, wait_on_rate_limit=True)"
   ]
  },
  {
   "cell_type": "code",
   "execution_count": null,
   "metadata": {},
   "outputs": [],
   "source": [
    "# Consulta\n",
    "# Aquestes consultes son case sensitive\n",
    "query = '#freebritney OR #FreeBritney'\n",
    "\n",
    "\n",
    "# Extraem els tuits mitjançant Cursor\n",
    "# Amb aquest mètode podem especifir, per exemple,l'idioma dels tuits\n",
    "\n",
    "#També podríem especificar el màxim de tuits\n",
    "#max_tweets = 500\n",
    "\n",
    "data_tweets = [status for status in tweepy.Cursor(api.search, \n",
    "                                                      lang=\"en\",\n",
    "                                                      q=query).items(max_tweets)]\n",
    "\n"
   ]
  },
  {
   "cell_type": "code",
   "execution_count": null,
   "metadata": {},
   "outputs": [],
   "source": [
    "# Format json\n",
    "json_data = [tuit._json for tuit in data_tweets]\n",
    "\n",
    "# Convertim en una base de dades panda\n",
    "df = pd.io.json.json_normalize(json_data)\n",
    "\n",
    "# Exportem a un fitxer csv\n",
    "df.to_csv (r'export_tw_dataframe_britney.csv', index = False, header=True)"
   ]
  }
 ],
 "metadata": {
  "kernelspec": {
   "display_name": "Python 3",
   "language": "python",
   "name": "python3"
  },
  "language_info": {
   "codemirror_mode": {
    "name": "ipython",
    "version": 3
   },
   "file_extension": ".py",
   "mimetype": "text/x-python",
   "name": "python",
   "nbconvert_exporter": "python",
   "pygments_lexer": "ipython3",
   "version": "3.7.4"
  }
 },
 "nbformat": 4,
 "nbformat_minor": 2
}
